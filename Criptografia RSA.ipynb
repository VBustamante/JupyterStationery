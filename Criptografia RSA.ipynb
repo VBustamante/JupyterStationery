{
 "cells": [
  {
   "cell_type": "markdown",
   "metadata": {},
   "source": [
    "# Motivação\n",
    "Até o meio do século XX, todos os métodos de criptografia se baseavam num mesmo mecanismo. Dos mais simples, como a cifra de césar, até coisas como o blowfish, todos estes algoritmos, chamados de **Algoritmos de Chave Simétrica**, trabalham da mesma forma: o remetente realiza uma transformação de uma informação em função de uma chave $K$ e transmitem o resultado. O receptor, em posse da mesma chave, realiza uma transformação inversa para conseguir acesso à informação. Esse método gera dois grandes problemas: \n",
    "\n",
    "1. Todos os participantes da \"conversa\" precisam ter a chave $K$, que precisa ser transmitida de forma segura entre eles, que não necessariamente é fácil, mesmo tendo acesso físico uns aos outros.\n",
    "\n",
    "2. Considerando várias chaves para vários parceiros de conversa, a gerência de diferentes chaves também precisa presar pela segurança e distribuição de cada uma delas, algo extremamente complicado em grande escala.\n",
    "\n",
    "Tendo em mente estes problemas, [James H. Ellis](https://en.wikipedia.org/wiki/James_H._Ellis) teorizou um sistema de criptografia que usasse um par de chaves: uma pública, que qualquer um pode usar para encriptar uma mensagem a ser enviada ao dono das chaves, e uma privada, conhecida apenas pelo recipiente, que é a chave para descriptografar a mensagem. Dessa forma, a chave pública pode ser distribuída livremente, sem riscos de quebra de privacidade da comunicação. O primeiro algoritmo baseado nesse sistema (chamado, adequadamente, de **Criptografia de Chave Pública**), foi desenvolvido por [Clifford Cocks](https://en.wikipedia.org/wiki/Clifford_Cocks) em 1970, e mantido em segredo pelo Quartel General de Comunicações do reino unido. Uma variação do algoritmo de Cocks foi desenvolvido independentemente por três pesquisadores do MIT  e publicado em 1978. Por isso, acabou ficando conhecido como RSA, as iniciais dos três.\n",
    "\n",
    "# Base Matemática\n",
    "## Conceitos Básicos\n",
    "Matemáticamente, o RSA se baseia em um campo de estudo chamado Teoria dos números, especialmente a parte que lida com números primos. Para entendimento dos teoremas, o leitor precisa saber que \n",
    "\n",
    "1. Existe uma operação modulo, tal que $a \\pmod{n}$ é igual ao resto da operação $a \\div n$.\n",
    "\n",
    "1. Sendo $a$, $b$  e $n$ inteiros, a notação $a \\equiv b \\pmod{n}$ (Lê-se $a$ e $b$ são **congruentes** módulo $n$) indica que $a\\pmod{n}$ e $b\\pmod{n}$ resultam no mesmo número.\n",
    "\n",
    "1. Dizer que $a$ é **coprimo** de $b$ significa que o maior divisor comum de $a$ e $b$ é $1$ ($\\gcd{a, b} = 1$)\n",
    "\n",
    "1. A função totiente de Euler ($\\phi(N)$) é equivalente ao número de inteiros menores que $N$ que são coprimos com $N$.\n",
    "\n",
    "## Teoremas\n",
    "### Teorema de Euler\n",
    "Este teorema é descrito como: $$x^{\\phi(N)} \\equiv 1\\pmod{N}$$ para qualquer $x$ coprimo a $N$, ambos inteiros positivos. Este é o caso geral do teorema principal dessa seção:\n",
    "\n",
    "### Teorema Fundamental do RSA\n",
    "$$x^{(p-1)(q-1)}\\equiv1\\pmod{pq}$$\n",
    "Para quaisquer primos $p$ e $q$ e um $x$ coprimo a ambos.\n",
    "\n",
    "A segurança reside no fato de que o único jeito de, sem saber a chave privada da comunicação, decriptar as mensagens, seria descobrir $p$ e $q$. Como a parte pública do RSA é o produto $n=pq$, e outro valor dependente $p$ e $q$, como veremos a seguir, o jeito de de descobri-los seria realizando a decomposição em valores primos de $n$, problema que, apesar de não ter sido provado como de complexidade NP, não possui nenhuma solução publicada que o resolva em tempo exponencial.\n",
    "\n",
    "(As provas dessa seção podem ser encontradas no livro *Números Inteiros e Criptografia RSA*, citado na biografia)\n",
    "\n",
    "# O Algoritmo\n",
    "O RSA em si é divido em 3 grandes partes:\n",
    "## Criação de chaves\n",
    "Primeiro, são gerados dois números primos distintos. Os metódos de geração variam e não fazem parte da especificação do algoritmo. De forma geral apresentam seguinte forma:\n",
    "1. Gerar um número, ou de forma completamente aleatória, ou usando uma função que gere uma grande quantidade de números primos, estatisticamente (eg. [Números de Mersenne](https://en.wikipedia.org/wiki/Mersenne_prime))\n",
    "\n",
    "2. Checar se o número é primo, usando algum teste de primalidade. Caso negativo, repetir o passo 1.\n",
    "\n",
    "Para os exemplos a seguir usaremos dois primos simples:\n"
   ]
  },
  {
   "cell_type": "code",
   "execution_count": 12,
   "metadata": {},
   "outputs": [],
   "source": [
    "p, q = 13, 17"
   ]
  },
  {
   "cell_type": "markdown",
   "metadata": {},
   "source": [
    "Em posse desses dois números, precisamos gerar as chaves em si. O primeiro passo é descobrir $e$ e $d$ tal que $ed \\equiv 1 \\pmod{\\phi}$ sendo $\\phi = (p − 1)(q − 1)$.\n",
    "Escolhemos $e$ entre os coprimos de $\\phi$ menores que o mesmo. Tendo esse número, executamos o algoritmo euclidiano estendido para descobrir $d$, seu inverso multiplicativo modular.\n",
    "A chave pública será $(e, n)$ e a privada $(d, n)$ sendo $n = pq$.\n",
    "\n",
    "Em código:\n"
   ]
  },
  {
   "cell_type": "code",
   "execution_count": 13,
   "metadata": {},
   "outputs": [
    {
     "name": "stdout",
     "output_type": "stream",
     "text": [
      "Chave publica:(145, 221)\n",
      "Chave privada:(49, 221)\n"
     ]
    }
   ],
   "source": [
    "import random\n",
    "from math import gcd\n",
    "\n",
    "def euclidianoEstendido(a, b):\n",
    "    if a == 0:\n",
    "        return (b, 0, 1)\n",
    "    else:\n",
    "        g, y, x = euclidianoEstendido(b % a, a)\n",
    "    return (g, x - (b // a) * y, y)\n",
    "\n",
    "def inversoModular(a, m):\n",
    "    g, x, y = euclidianoEstendido(a, m)\n",
    "    return x % m\n",
    "\n",
    "def gerarChaves(p, q):\n",
    "    #n = pq\n",
    "    n = p * q\n",
    "    #Phi é o totiente n\n",
    "    phi = (p-1) * (q-1)\n",
    "    while True:\n",
    "    #Geramos um e entre 1 e phi\n",
    "        e = random.randrange(3, phi)\n",
    "        #Checamos se e e phi são coprimos, descobrindo seu mdc\n",
    "        mdc = gcd(e, phi)\n",
    "        if(mdc == 1):\n",
    "            #Euclidiano Estendido para descobrir d\n",
    "            d = inversoModular(e, phi)\n",
    "            if(d != e):\n",
    "                break\n",
    "    \n",
    "    #Retorna o par de chaves\n",
    "    #Chave pública é (e, n) e Chave privada é (d, n)\n",
    "\n",
    "    return ((e, n), (d, n))\n",
    "\n",
    "\n",
    "chavePublica, chavePrivada = gerarChaves(p, q)\n",
    "print(\"Chave publica:\" + str(chavePublica))\n",
    "print(\"Chave privada:\" + str(chavePrivada))"
   ]
  },
  {
   "cell_type": "markdown",
   "metadata": {},
   "source": [
    "## Encriptação\n",
    "\n",
    "A encriptação é o processo de dividir a mensagem em pacotes $m$ com valor menor que $n$ e realizar para cada bloco a operação $m^{e} \\pmod{n}$. Nesse caso, usaremos os caracteres da mensagem como blocos*:"
   ]
  },
  {
   "cell_type": "code",
   "execution_count": 24,
   "metadata": {},
   "outputs": [
    {
     "name": "stdout",
     "output_type": "stream",
     "text": [
      "Mensagem Original: 'Plus Ultra' \n",
      "Mensagem Encriptada: \n",
      "[80, 108, 117, 115, 32, 85, 108, 116, 114, 97]\n"
     ]
    }
   ],
   "source": [
    "frase = \"Plus Ultra\"\n",
    "\n",
    "def encriptar(chave, mensagem):\n",
    "    #Separar os componentes da chave\n",
    "    e, n = chave\n",
    "    #Converter cada caractere em um número usando a^b mod m\n",
    "    textoEncriptado = [(ord(letra) **e) % n for letra in mensagem]\n",
    "    #Retornar o array\n",
    "    return textoEncriptado\n",
    "\n",
    "mensagemEncriptada = encriptar(chavePublica, frase)\n",
    "print(\"Mensagem Original: '\"+frase+\"' \\nMensagem Encriptada: \")\n",
    "print(mensagemEncriptada)\n"
   ]
  },
  {
   "cell_type": "markdown",
   "metadata": {},
   "source": [
    "*_o uso de caracteres como blocos é altamente desencorajado em aplicações reais, por deixar o criptotexto vulnerável a decodificação por uso de frequência de letras._\n",
    "\n",
    "## Decriptação\n",
    "Na decriptação recebe-se um array de pacotes encriptados $c$ e realiza-se para cada bloco a operação $c^{d} \\pmod{n}$. Depois juntamos os blocos em uma string:"
   ]
  },
  {
   "cell_type": "code",
   "execution_count": 23,
   "metadata": {},
   "outputs": [
    {
     "name": "stdout",
     "output_type": "stream",
     "text": [
      "Mensagem decriptada: 'Plus Ultra'\n"
     ]
    }
   ],
   "source": [
    "def decriptar(chave, cifra):\n",
    "    #Separar os componentes da chave\n",
    "    d, n = chave\n",
    "    \n",
    "    #Converter cada número em caractere usando a^b mod m\n",
    "    texto = [chr((bloco ** d) % n) for bloco in cifra]\n",
    "\n",
    "    #Retornar o string\n",
    "    return ''.join(texto)\n",
    "\n",
    "mensagemRecuperada = decriptar(chavePrivada, mensagemEncriptada)\n",
    "print(\"Mensagem decriptada: '\" + mensagemRecuperada+ \"'\")\n"
   ]
  },
  {
   "cell_type": "markdown",
   "metadata": {},
   "source": [
    "# Bibliografia\n",
    "* [Curso de fundamentos de segurança de computadores - UTA - aula 44](https://www.cs.utexas.edu/users/byoung/cs361/lecture44.pdf)\n",
    "* [Paper de James Ellis sobre Encriptação Não-secreta](https://web.archive.org/web/20030610193721/http://jya.com/ellisdoc.htm)\n",
    "* [Números Inteiros e Criptografia RSA - S. C. Coutinho](https://loja.sbm.org.br/index.php/numeros-inteiros-e-criptografia-rsa.html)\n",
    "* [Public-key cryptography - Wikipedia](https://en.wikipedia.org/wiki/Public-key_cryptography)\n",
    "* [RSA problem - Wikipedia](https://en.wikipedia.org/wiki/RSA_problem)\n",
    "* Various wikipedia pages"
   ]
  }
 ],
 "metadata": {
  "anaconda-cloud": {},
  "kernelspec": {
   "display_name": "Python 3",
   "language": "python",
   "name": "python3"
  },
  "language_info": {
   "codemirror_mode": {
    "name": "ipython",
    "version": 3
   },
   "file_extension": ".py",
   "mimetype": "text/x-python",
   "name": "python",
   "nbconvert_exporter": "python",
   "pygments_lexer": "ipython3",
   "version": "3.6.3"
  }
 },
 "nbformat": 4,
 "nbformat_minor": 1
}
