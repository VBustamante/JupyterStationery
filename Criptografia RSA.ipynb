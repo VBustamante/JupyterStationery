{
 "cells": [
  {
   "cell_type": "markdown",
   "metadata": {},
   "source": [
    "# Motivação\n",
    "Até o meio do século XX, todos os métodos de criptografia se baseavam num mesmo mecanismo. Dos mais simples, como a cifra de césar, até coisas como o blowfish, todos estes algoritmos, chamados de **Algoritmos de Chave Simétrica**, trabalham da mesma forma: o remetente realiza uma transformação de uma informação em função de uma chave $K$ e transmitem o resultado. O receptor, em posse da mesma chave, realiza uma transformação inversa para conseguir acesso à informação. Esse método gera dois grandes problemas: \n",
    "\n",
    "1. Todos os participantes da \"conversa\" precisam ter a chave $K$, que precisa ser transmitida de forma segura entre eles, que não necessariamente é fácil, mesmo tendo acesso físico uns aos outros.\n",
    "\n",
    "2. Considerando várias chaves para vários parceiros de conversa, a gerência de diferentes chaves também precisa presar pela segurança e distribuição de cada uma delas, algo extremamente complicado em grande escala.\n",
    "\n",
    "Tendo em mente estes problemas, [James H. Ellis](https://en.wikipedia.org/wiki/James_H._Ellis) teorizou um sistema de criptografia que usasse um par de chaves: uma pública, que qualquer um pode usar para encriptar uma mensagem a ser enviada ao dono das chaves, e uma privada, conhecida apenas pelo recipiente, que é a chave para descriptografar a mensagem. Dessa forma, a chave pública pode ser distribuída livremente, sem riscos de quebra de privacidade da comunicação. O primeiro algoritmo baseado nesse sistema (chamado, adequadamente, de **Criptografia de Chave Pública**), foi desenvolvido por [Clifford Cocks](https://en.wikipedia.org/wiki/Clifford_Cocks) em 1970, e mantido em segredo pelo Quartel General de Comunicações do reino unido. Este mesmo algoritmo foi desenvolvido independentemente por três pesquisadores do MIT  e publicado em 1978. Por isso, acabou ficando conhecido como RSA, as iniciais dos três.\n",
    "\n",
    "# Base Matemática\n",
    "## Conceitos Básicos\n",
    "Matemáticamente, o RSA se baseia em um campo de estudo chamado Teoria dos números, especialmente a parte que lida com números primos. Para entendimento das demonstrações, o leitor precisa saber que \n",
    "\n",
    "1. Todo número inteiro $n$ pode ser descrito como um produto de fatores primos tal que $n = p_1^{\\alpha_1}  p_2^{\\alpha_2} \\cdots p_k^{\\alpha_k}$\n",
    "\n",
    "2. Existe uma operação modulo, tal que $a \\pmod{n}$ é igual ao resto da operação $a \\div n$.\n",
    "\n",
    "3. Sendo $a$, $b$  e $n$ inteiros, a notação $a \\equiv b \\pmod{n}$ (Lê-se $a$ e $b$ são **congruentes** módulo $n$) indica que $a$ e $b$ módulo $n$ resultam no mesmo número."
   ]
  },
  {
   "cell_type": "code",
   "execution_count": 15,
   "metadata": {
    "collapsed": true
   },
   "outputs": [
    {
     "name": "stdout",
     "output_type": "stream",
     "text": [
      "S\n",
      "o\n",
      "m\n",
      "e\n",
      "b\n",
      "o\n",
      "d\n",
      "y\n",
      " \n",
      "o\n",
      "n\n",
      "c\n",
      "e\n",
      " \n",
      "t\n",
      "o\n",
      "l\n",
      "d\n",
      " \n",
      "m\n",
      "e\n",
      " \n",
      "t\n",
      "h\n",
      "e\n",
      " \n",
      "w\n",
      "o\n",
      "r\n",
      "l\n",
      "d\n",
      " \n",
      "i\n",
      "s\n",
      " \n",
      "g\n",
      "o\n",
      "n\n",
      "n\n",
      "a\n",
      " \n",
      "r\n",
      "o\n",
      "l\n",
      "l\n",
      " \n",
      "m\n",
      "e\n"
     ]
    }
   ],
   "source": [
    "frase = \"Somebody once told me the world is gonna roll me\"\n",
    "for letra in frase:\n",
    "    print(letra)"
   ]
  },
  {
   "cell_type": "markdown",
   "metadata": {},
   "source": [
    "# Bibliografia\n",
    "* [Curso de fundamentos de segurança de computadores - UTA - aula 44](https://www.cs.utexas.edu/users/byoung/cs361/lecture44.pdf)\n",
    "* [Paper de James Ellis sobre Encriptação Não-secreta](https://web.archive.org/web/20030610193721/http://jya.com/ellisdoc.htm)\n",
    "* [Números Inteiros e Criptografia RSA - S. C. Coutinho](https://loja.sbm.org.br/index.php/numeros-inteiros-e-criptografia-rsa.html)\n",
    "* [Public-key cryptography - Wikipedia](https://en.wikipedia.org/wiki/Public-key_cryptography)\n",
    "* Various wikipedia pages"
   ]
  }
 ],
 "metadata": {
  "anaconda-cloud": {},
  "celltoolbar": "Raw Cell Format",
  "kernelspec": {
   "display_name": "Python [default]",
   "language": "python",
   "name": "python3"
  },
  "language_info": {
   "codemirror_mode": {
    "name": "ipython",
    "version": 3
   },
   "file_extension": ".py",
   "mimetype": "text/x-python",
   "name": "python",
   "nbconvert_exporter": "python",
   "pygments_lexer": "ipython3",
   "version": "3.5.2"
  }
 },
 "nbformat": 4,
 "nbformat_minor": 1
}
