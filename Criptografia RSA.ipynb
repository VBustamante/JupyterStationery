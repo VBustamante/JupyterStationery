{
 "cells": [
  {
   "cell_type": "markdown",
   "metadata": {},
   "source": [
    "# Motivação\n",
    "Até o meio do século XX, todos os métodos de criptografia se baseavam num mesmo mecanismo. Dos mais simples, como a cifra de césar, até coisas como o blowfish, todos estes algoritmos, chamados de **Algoritmos de Chave Simétrica**, trabalham da mesma forma: o remetente realiza uma transformação de uma informação em função de uma chave **K** e transmitem o resultado. O receptor, em posse da mesma chave, realiza uma transformação inversa para conseguir acesso à informação. Esse método gera dois grandes problemas: \n",
    "\n",
    "1. Todos os participantes da \"conversa\" precisam ter a chave **K**, que precisa ser transmitida de forma segura entre eles, que não necessariamente é fácil, mesmo tendo acesso físico uns aos outros.\n",
    "\n",
    "2. Considerando várias chaves para vários parceiros de conversa, a gerência de diferentes chaves também precisa presar pela segurança e distribuição de cada uma delas, algo extremamente complicado em grande escala.\n",
    "\n",
    "Tendo em mente estes problemas, [James H. Ellis](https://en.wikipedia.org/wiki/James_H._Ellis) teorizou um sistema de criptografia que usasse duas chaves"
   ]
  },
  {
   "cell_type": "code",
   "execution_count": 15,
   "metadata": {
    "collapsed": true
   },
   "outputs": [
    {
     "name": "stdout",
     "output_type": "stream",
     "text": [
      "S\n",
      "o\n",
      "m\n",
      "e\n",
      "b\n",
      "o\n",
      "d\n",
      "y\n",
      " \n",
      "o\n",
      "n\n",
      "c\n",
      "e\n",
      " \n",
      "t\n",
      "o\n",
      "l\n",
      "d\n",
      " \n",
      "m\n",
      "e\n",
      " \n",
      "t\n",
      "h\n",
      "e\n",
      " \n",
      "w\n",
      "o\n",
      "r\n",
      "l\n",
      "d\n",
      " \n",
      "i\n",
      "s\n",
      " \n",
      "g\n",
      "o\n",
      "n\n",
      "n\n",
      "a\n",
      " \n",
      "r\n",
      "o\n",
      "l\n",
      "l\n",
      " \n",
      "m\n",
      "e\n"
     ]
    }
   ],
   "source": [
    "frase = \"Somebody once told me the world is gonna roll me\"\n",
    "for letra in frase:\n",
    "    print(letra)"
   ]
  },
  {
   "cell_type": "markdown",
   "metadata": {},
   "source": [
    "# Bibliografia\n",
    "* [Curso de fundamentos de segurança de computadores - UTA - aula 44](https://www.cs.utexas.edu/users/byoung/cs361/lecture44.pdf)\n",
    "* [Paper de James Ellis sobre Encriptação Não-secreta](https://web.archive.org/web/20030610193721/http://jya.com/ellisdoc.htm)\n",
    "* Livro do collier\n",
    "* Various wikipedia pages"
   ]
  }
 ],
 "metadata": {
  "anaconda-cloud": {},
  "celltoolbar": "Raw Cell Format",
  "kernelspec": {
   "display_name": "Python [default]",
   "language": "python",
   "name": "python3"
  },
  "language_info": {
   "codemirror_mode": {
    "name": "ipython",
    "version": 3
   },
   "file_extension": ".py",
   "mimetype": "text/x-python",
   "name": "python",
   "nbconvert_exporter": "python",
   "pygments_lexer": "ipython3",
   "version": "3.5.2"
  }
 },
 "nbformat": 4,
 "nbformat_minor": 1
}
